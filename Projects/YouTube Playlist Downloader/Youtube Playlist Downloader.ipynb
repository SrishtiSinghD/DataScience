{
 "cells": [
  {
   "cell_type": "code",
   "execution_count": 1,
   "metadata": {},
   "outputs": [],
   "source": [
    "# ! pip install pytube"
   ]
  },
  {
   "cell_type": "code",
   "execution_count": 2,
   "metadata": {},
   "outputs": [],
   "source": [
    "from pytube import Playlist"
   ]
  },
  {
   "cell_type": "code",
   "execution_count": 3,
   "metadata": {},
   "outputs": [
    {
     "name": "stdout",
     "output_type": "stream",
     "text": [
      "downloading : QubitxQubit: Quantum Computing, Orientation Lecture 10.11.20 with url : https://youtube.com/watch?v=avac1Bltc-A\n",
      "downloading : QxQ - Introduction to Quantum Computing Lecture 1 10.18.20 with url : https://youtube.com/watch?v=TqKqnqlut8I\n",
      "downloading : QxQ - Introduction to Quantum Computing  Lecture 2 10.25.20 with url : https://youtube.com/watch?v=Yp_FGgwly_Q\n",
      "downloading : QxQ - Introduction to Quantum Computing  Lecture 3 11.1.20 with url : https://youtube.com/watch?v=oNairRBKI9c\n",
      "downloading : QxQ: Introduction to Quantum Computing Lecture 4, 11.8.20 with url : https://youtube.com/watch?v=r1Ub4oh9Qd4\n",
      "downloading : QxQ: Introduction to Quantum Computing Lecture 5, 11.15.20 with url : https://youtube.com/watch?v=KcWC0kEjGbM\n",
      "downloading : QxQ: Introduction to Quantum Computing Lecture 6, 11.22.20 with url : https://youtube.com/watch?v=KBtRAtMqr_s\n",
      "downloading : QxQ: Introduction to Quantum Computing Lecture 7, 11.29.20 with url : https://youtube.com/watch?v=DmhieK6bm9w\n",
      "downloading : QxQ: Introduction to Quantum Computing, Lecture 8, 12.6.20 with url : https://youtube.com/watch?v=8CWksX-WU8o\n",
      "downloading : QxQ: Introduction to Quantum Computing, Lecture 9 12.13.20 with url : https://youtube.com/watch?v=CKk9akc-_n0\n",
      "downloading : QxQ: Introduction to Quantum Computing Lecture 10, 1.10.21 with url : https://youtube.com/watch?v=Ivo8j29vPWg\n",
      "downloading : QxQ: Introduction to Quantum Computing, Lecture 11 1.17.21 with url : https://youtube.com/watch?v=8bp42xkbP6w\n",
      "downloading : QxQ: Introduction to Quantum Computing, Lecture 12 1.24.21 with url : https://youtube.com/watch?v=WQEk2QYJ0VE\n",
      "downloading : QxQ: Introduction to Quantum Computing, Lecture 13 1.31.21 with url : https://youtube.com/watch?v=C2iVu1K6EEs\n",
      "downloading : QxQ: Introduction to Quantum Computing, Lecture 14, 2.7.21 with url : https://youtube.com/watch?v=zO_NFt2Z_e8\n",
      "downloading : QxQ: Introduction to Quantum Computing, Lecture 15, 2.14.21 with url : https://youtube.com/watch?v=z-mXsFk_A9I\n",
      "downloading : QxQ: Introduction to Quantum Computing, Lecture 16, 2.21.21 with url : https://youtube.com/watch?v=leOX7LXVCEI\n",
      "downloading : QxQ: Introduction to Quantum Computing, Lecture 17, 2.28.21 with url : https://youtube.com/watch?v=TeC1B6Av0xo\n",
      "downloading : QxQ: Introduction to Quantum Computing, Lecture 18, 3.7.21 with url : https://youtube.com/watch?v=KU6SiwzG47I\n",
      "downloading : QxQ: Introduction to Quantum Computing, Lecture 19, 3.14.21 with url : https://youtube.com/watch?v=L3qzRf59Nr8\n",
      "downloading : QxQ: Introduction to Quantum Computation, Lecture 20, 3.21.21 with url : https://youtube.com/watch?v=zXXFhTe5pPY\n",
      "downloading : QxQ: Introduction to Quantum Computation, Lecture 21, 3.28.21 with url : https://youtube.com/watch?v=8MZzSJrYYAo\n",
      "downloading : QxQ: Introduction to Quantum Computing, Lecture 22, 4.18.21 with url : https://youtube.com/watch?v=4DQ2G-TJcVI\n",
      "downloading : QxQ: Introduction to Quantum Computing, Lecture 23, 4.25.21 with url : https://youtube.com/watch?v=iVgH41Nzid8\n",
      "downloading : QxQ: Introduction to Quantum Computing, Lecture 24, 5.2.21 with url : https://youtube.com/watch?v=a8pkJ3B6dRk\n"
     ]
    }
   ],
   "source": [
    "lecture_playlist = Playlist('https://www.youtube.com/playlist?list=PLEAVvc3Vw38WnRYCdg05qQKX2eGM4PMJJ')\n",
    "for video in lecture_playlist.videos:\n",
    "    print('downloading : {} with url : {}'.format(video.title, video.watch_url))\n",
    "    video.streams.\\\n",
    "        filter(type='video', progressive=True, file_extension='mp4').\\\n",
    "        order_by('resolution').\\\n",
    "        desc().\\\n",
    "        first().\\\n",
    "        download(output_path=\"Lectures\", timeout=1000, max_retries=3, skip_existing=True)"
   ]
  },
  {
   "cell_type": "code",
   "execution_count": 4,
   "metadata": {},
   "outputs": [
    {
     "name": "stdout",
     "output_type": "stream",
     "text": [
      "downloading : Qubit by Qubit: Lab 3, 10.20.20 with url : https://youtube.com/watch?v=A2cWrLVYmvE\n",
      "downloading : Qubit by Qubit: Lab 3, 10.27.20 with url : https://youtube.com/watch?v=48kLeLeHWiQ\n",
      "downloading : Qubit by Qubit: Lab 3, 11.03.20 with url : https://youtube.com/watch?v=Hi0GEA0mn-Q\n",
      "downloading : Qubit by Qubit: Lab 3, 11.10.20 with url : https://youtube.com/watch?v=RzbuvFBq6n0\n",
      "downloading : Qubit by Qubit: Lab 3, 11.17.20 with url : https://youtube.com/watch?v=CoW3ajm8lE0\n",
      "downloading : Qubit by Qubit: Lab 3, 12.1.20 with url : https://youtube.com/watch?v=owbCTIvV6Tk\n",
      "downloading : Qubit by Qubit: Lab 3, 12.8.20 with url : https://youtube.com/watch?v=KNwWo9tQJ88\n",
      "downloading : Qubit by Qubit: Lab 3, 12.15.20 with url : https://youtube.com/watch?v=bHBmxmUy4J4\n",
      "downloading : QxQ Intro to Quantum Computing LAB 3 (Week 10, January 12 2021) with url : https://youtube.com/watch?v=75LLN_4TXQE\n",
      "downloading : Week 11 QxQ Lab Recording Lab 3 with url : https://youtube.com/watch?v=3FJ8IVy7B90\n",
      "downloading : Week 12 QxQ Lab Recording Lab 3 with url : https://youtube.com/watch?v=TxLY_6TbmbI\n",
      "downloading : Week 13 QxQ Lab 3 Recording with url : https://youtube.com/watch?v=B1CvrV923U0\n",
      "downloading : Week 14 QxQ Lab 3 Recording with url : https://youtube.com/watch?v=MY_s-bAJoWs\n",
      "downloading : Qubit by Qubit: Lab 3, 2.16.21 with url : https://youtube.com/watch?v=tmj4xMb1chM\n",
      "downloading : QxQ Intro to QC: Lab 3, 2.23.21 with url : https://youtube.com/watch?v=-zRmlIm650c\n",
      "downloading : QxQ Week 17 Section 3 with url : https://youtube.com/watch?v=ZKTzdNlHP9g\n",
      "downloading : QxQ Week 18 Section 3 - Superdense Coding with url : https://youtube.com/watch?v=r0MMteSP_6g\n",
      "downloading : QxQ Lab 19 S3 - Quantum Key Distribution with url : https://youtube.com/watch?v=7XHmaHC5DEk\n",
      "downloading : QxQ Lab 20 Section 3 -- Deutsch-Jozsa Algorithm with url : https://youtube.com/watch?v=tzvFiE-tHGU\n",
      "downloading : QxQ Lab 21 Section 3 - Grover's Algorithm with url : https://youtube.com/watch?v=rOI4QeuXRvo\n",
      "downloading : QxQ Lab 22 Section 3 - Randomized Benchmarking with url : https://youtube.com/watch?v=mcMfYzFOv-s\n",
      "downloading : QxQ Lab 23 Section 3 - Review with url : https://youtube.com/watch?v=VkpajufXZ7g\n"
     ]
    }
   ],
   "source": [
    "labs_playlist = Playlist('https://www.youtube.com/playlist?list=PLEAVvc3Vw38WaFlu2SYutIwKD1itg3mJU')\n",
    "for video in labs_playlist.videos:\n",
    "    print('downloading : {} with url : {}'.format(video.title, video.watch_url))\n",
    "    video.streams.\\\n",
    "        filter(type='video', progressive=True, file_extension='mp4').\\\n",
    "        order_by('resolution').\\\n",
    "        desc().\\\n",
    "        first().\\\n",
    "        download(output_path=\"Labs\", timeout=10000, max_retries=3, skip_existing=True)"
   ]
  }
 ],
 "metadata": {
  "kernelspec": {
   "display_name": "Python 3",
   "language": "python",
   "name": "python3"
  },
  "language_info": {
   "codemirror_mode": {
    "name": "ipython",
    "version": 3
   },
   "file_extension": ".py",
   "mimetype": "text/x-python",
   "name": "python",
   "nbconvert_exporter": "python",
   "pygments_lexer": "ipython3",
   "version": "3.8.5"
  }
 },
 "nbformat": 4,
 "nbformat_minor": 4
}
