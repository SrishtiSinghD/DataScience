{
 "cells": [
  {
   "cell_type": "code",
   "execution_count": null,
   "metadata": {},
   "outputs": [],
   "source": [
    "! pip install pytube"
   ]
  },
  {
   "cell_type": "code",
   "execution_count": 1,
   "metadata": {},
   "outputs": [],
   "source": [
    "from pytube import Playlist"
   ]
  },
  {
   "cell_type": "code",
   "execution_count": null,
   "metadata": {},
   "outputs": [
    {
     "name": "stdout",
     "output_type": "stream",
     "text": [
      "downloading : QubitxQubit: Quantum Computing, Orientation Lecture 10.11.20 with url : https://youtube.com/watch?v=avac1Bltc-A\n",
      "downloading : QxQ - Introduction to Quantum Computing Lecture 1 10.18.20 with url : https://youtube.com/watch?v=TqKqnqlut8I\n",
      "downloading : QxQ - Introduction to Quantum Computing  Lecture 2 10.25.20 with url : https://youtube.com/watch?v=Yp_FGgwly_Q\n",
      "downloading : QxQ - Introduction to Quantum Computing  Lecture 3 11.1.20 with url : https://youtube.com/watch?v=oNairRBKI9c\n",
      "downloading : QxQ: Introduction to Quantum Computing Lecture 4, 11.8.20 with url : https://youtube.com/watch?v=r1Ub4oh9Qd4\n",
      "downloading : QxQ: Introduction to Quantum Computing Lecture 5, 11.15.20 with url : https://youtube.com/watch?v=KcWC0kEjGbM\n",
      "downloading : QxQ: Introduction to Quantum Computing Lecture 6, 11.22.20 with url : https://youtube.com/watch?v=KBtRAtMqr_s\n",
      "downloading : QxQ: Introduction to Quantum Computing Lecture 7, 11.29.20 with url : https://youtube.com/watch?v=DmhieK6bm9w\n",
      "downloading : QxQ: Introduction to Quantum Computing, Lecture 8, 12.6.20 with url : https://youtube.com/watch?v=8CWksX-WU8o\n",
      "downloading : QxQ: Introduction to Quantum Computing, Lecture 9 12.13.20 with url : https://youtube.com/watch?v=CKk9akc-_n0\n",
      "downloading : QxQ: Introduction to Quantum Computing Lecture 10, 1.10.21 with url : https://youtube.com/watch?v=Ivo8j29vPWg\n",
      "downloading : QxQ: Introduction to Quantum Computing, Lecture 11 1.17.21 with url : https://youtube.com/watch?v=8bp42xkbP6w\n",
      "downloading : QxQ: Introduction to Quantum Computing, Lecture 12 1.24.21 with url : https://youtube.com/watch?v=WQEk2QYJ0VE\n",
      "downloading : QxQ: Introduction to Quantum Computing, Lecture 13 1.31.21 with url : https://youtube.com/watch?v=C2iVu1K6EEs\n",
      "downloading : QxQ: Introduction to Quantum Computing, Lecture 14, 2.7.21 with url : https://youtube.com/watch?v=zO_NFt2Z_e8\n",
      "downloading : QxQ: Introduction to Quantum Computing, Lecture 15, 2.14.21 with url : https://youtube.com/watch?v=z-mXsFk_A9I\n"
     ]
    }
   ],
   "source": [
    "lecture_playlist = Playlist('https://www.youtube.com/playlist?list=PLEAVvc3Vw38WnRYCdg05qQKX2eGM4PMJJ')\n",
    "for video in lecture_playlist.videos:\n",
    "    print('downloading : {} with url : {}'.format(video.title, video.watch_url))\n",
    "    video.streams.\\\n",
    "        filter(type='video', progressive=True, file_extension='mp4').\\\n",
    "        order_by('resolution').\\\n",
    "        desc().\\\n",
    "        first().\\\n",
    "        download(\"Lectures\", timeout=10000, max_retries=3)"
   ]
  },
  {
   "cell_type": "code",
   "execution_count": null,
   "metadata": {},
   "outputs": [],
   "source": [
    "labs_playlist = Playlist('https://www.youtube.com/playlist?list=PLEAVvc3Vw38WaFlu2SYutIwKD1itg3mJU')\n",
    "for video in labs_playlist.videos:\n",
    "    print('downloading : {} with url : {}'.format(video.title, video.watch_url))\n",
    "    video.streams.\\\n",
    "        filter(type='video', progressive=True, file_extension='mp4').\\\n",
    "        order_by('resolution').\\\n",
    "        desc().\\\n",
    "        first().\\\n",
    "        download(\"Labs\", timeout=10000, max_retries=3)"
   ]
  }
 ],
 "metadata": {
  "kernelspec": {
   "display_name": "Python 3",
   "language": "python",
   "name": "python3"
  },
  "language_info": {
   "codemirror_mode": {
    "name": "ipython",
    "version": 3
   },
   "file_extension": ".py",
   "mimetype": "text/x-python",
   "name": "python",
   "nbconvert_exporter": "python",
   "pygments_lexer": "ipython3",
   "version": "3.8.5"
  }
 },
 "nbformat": 4,
 "nbformat_minor": 4
}
